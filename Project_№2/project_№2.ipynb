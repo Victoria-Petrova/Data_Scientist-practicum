{
 "cells": [
  {
   "cell_type": "markdown",
   "metadata": {},
   "source": [
    "# Рекомендация тарифов"
   ]
  },
  {
   "cell_type": "markdown",
   "metadata": {},
   "source": [
    "Оператор мобильной связи «Мегалайн» выяснил, что многие клиенты пользуются архивными тарифами. Им необходимо построить систему, способную проанализировать поведение клиентов и предложить пользователям новый тариф: «Смарт» или «Ультра».\n",
    "\n",
    "Нам предстоит построить модель для задачи классификации, которая выберет подходящий тариф. В нашем распоряжении данные о поведении клиентов, которые уже перешли на эти тарифы."
   ]
  },
  {
   "cell_type": "markdown",
   "metadata": {},
   "source": [
    "###### Данное исследование разделим на несколько этапов.\n",
    "\n",
    "##### 1. Изучение общей информации:\n",
    "* [1.1. Загрузка библиотек, изученеие файлов с данными, получение общей информации.](#section1)\n",
    "* [1.2. Подготовка данных.](#section2)\n",
    "\n",
    "##### 2. Разбиение данных на выборки:\n",
    "* [2.1. Извлеченние в отдельные переменные признаки и целевой признак.](#section3)\n",
    "* [2.2. Разделение набора данных на обучающую, валидационную, и тестовую выборку.](#section4)\n",
    "\n",
    "##### 3. Исследование моделей:\n",
    "* [3.1. Оценим качество трех моделей по умолчанию.](#section5)\n",
    "* [3.2. Оценим качество моделей на тренировочной выборке.](#section6)\n",
    "* [3.3. Улучшим модели.](#section7)\n",
    "    * [Случайный лес (RandomForestClassifier).](#section8)\n",
    "    * [Дерево решений (DecisionTreeClassifier).](#section9)\n",
    "    * [Логистическая регрессия (LogisticRegression).](#section10)\n",
    "* [3.4. Добавим получившиеся метрики в таблицу modl, и выберем лучшую модель.](#section11)\n",
    "\n",
    "##### 4. Проверка модели на тестовой выборке:\n",
    "* [4.1. Объединим тренировачную и валидационную выборки.](#section12)\n",
    "* [4.2. Обучим модель на полных данных.](#section13)\n",
    "* [4.3. Получим предсказания и посчитаем качество модели на тестовой выборке.](#section14)\n",
    "\n",
    "##### 5. Проверка модели на адекватность:\n",
    "* [5.1. Создадим константную модель.](#section15)\n",
    "* [5.2. Сравним показатель точности константной модели и финальной.](#section16)\n",
    "\n",
    "##### 6. Общий вывод:\n",
    "* [6.1. Формулировка общего вывода.](#section17)"
   ]
  },
  {
   "cell_type": "markdown",
   "metadata": {},
   "source": [
    "<a id='section1'></a>"
   ]
  },
  {
   "cell_type": "markdown",
   "metadata": {},
   "source": [
    "## 1. Изучение общей информации"
   ]
  },
  {
   "cell_type": "markdown",
   "metadata": {},
   "source": [
    "### 1.1.  Загрузка библиотек, изученеие файлов с данными, получение общей информации."
   ]
  },
  {
   "cell_type": "markdown",
   "metadata": {},
   "source": [
    "Импортируем все необходимые библиотеки."
   ]
  },
  {
   "cell_type": "code",
   "execution_count": 1,
   "metadata": {},
   "outputs": [],
   "source": [
    "import pandas as pd \n",
    "import numpy as np\n",
    "import math\n",
    "\n",
    "from sklearn.tree import DecisionTreeClassifier\n",
    "\n",
    "from sklearn.ensemble import RandomForestClassifier\n",
    "\n",
    "from sklearn.linear_model import LogisticRegression\n",
    "\n",
    "from sklearn.model_selection import train_test_split\n",
    "from sklearn.metrics import accuracy_score\n",
    "from sklearn import model_selection\n",
    "\n",
    "from warnings import simplefilter\n",
    "simplefilter(action='ignore', category=FutureWarning)\n",
    "\n",
    "import warnings\n",
    "warnings.filterwarnings(\"ignore\")\n",
    "\n",
    "import seaborn as sns\n",
    "\n",
    "from sklearn.model_selection import GridSearchCV\n",
    "\n",
    "import time\n",
    "\n",
    "from sklearn.dummy import DummyClassifier"
   ]
  },
  {
   "cell_type": "markdown",
   "metadata": {},
   "source": [
    "#### Прочитаем файл с данными."
   ]
  },
  {
   "cell_type": "code",
   "execution_count": 2,
   "metadata": {},
   "outputs": [],
   "source": [
    "df = pd.read_csv('/datasets/users_behavior.csv')"
   ]
  },
  {
   "cell_type": "markdown",
   "metadata": {},
   "source": [
    "#### Получим первые строки таблицы."
   ]
  },
  {
   "cell_type": "code",
   "execution_count": 3,
   "metadata": {},
   "outputs": [
    {
     "data": {
      "text/html": [
       "<div>\n",
       "<style scoped>\n",
       "    .dataframe tbody tr th:only-of-type {\n",
       "        vertical-align: middle;\n",
       "    }\n",
       "\n",
       "    .dataframe tbody tr th {\n",
       "        vertical-align: top;\n",
       "    }\n",
       "\n",
       "    .dataframe thead th {\n",
       "        text-align: right;\n",
       "    }\n",
       "</style>\n",
       "<table border=\"1\" class=\"dataframe\">\n",
       "  <thead>\n",
       "    <tr style=\"text-align: right;\">\n",
       "      <th></th>\n",
       "      <th>calls</th>\n",
       "      <th>minutes</th>\n",
       "      <th>messages</th>\n",
       "      <th>mb_used</th>\n",
       "      <th>is_ultra</th>\n",
       "    </tr>\n",
       "  </thead>\n",
       "  <tbody>\n",
       "    <tr>\n",
       "      <td>0</td>\n",
       "      <td>40.0</td>\n",
       "      <td>311.90</td>\n",
       "      <td>83.0</td>\n",
       "      <td>19915.42</td>\n",
       "      <td>0</td>\n",
       "    </tr>\n",
       "    <tr>\n",
       "      <td>1</td>\n",
       "      <td>85.0</td>\n",
       "      <td>516.75</td>\n",
       "      <td>56.0</td>\n",
       "      <td>22696.96</td>\n",
       "      <td>0</td>\n",
       "    </tr>\n",
       "    <tr>\n",
       "      <td>2</td>\n",
       "      <td>77.0</td>\n",
       "      <td>467.66</td>\n",
       "      <td>86.0</td>\n",
       "      <td>21060.45</td>\n",
       "      <td>0</td>\n",
       "    </tr>\n",
       "    <tr>\n",
       "      <td>3</td>\n",
       "      <td>106.0</td>\n",
       "      <td>745.53</td>\n",
       "      <td>81.0</td>\n",
       "      <td>8437.39</td>\n",
       "      <td>1</td>\n",
       "    </tr>\n",
       "    <tr>\n",
       "      <td>4</td>\n",
       "      <td>66.0</td>\n",
       "      <td>418.74</td>\n",
       "      <td>1.0</td>\n",
       "      <td>14502.75</td>\n",
       "      <td>0</td>\n",
       "    </tr>\n",
       "  </tbody>\n",
       "</table>\n",
       "</div>"
      ],
      "text/plain": [
       "   calls  minutes  messages   mb_used  is_ultra\n",
       "0   40.0   311.90      83.0  19915.42         0\n",
       "1   85.0   516.75      56.0  22696.96         0\n",
       "2   77.0   467.66      86.0  21060.45         0\n",
       "3  106.0   745.53      81.0   8437.39         1\n",
       "4   66.0   418.74       1.0  14502.75         0"
      ]
     },
     "execution_count": 3,
     "metadata": {},
     "output_type": "execute_result"
    }
   ],
   "source": [
    "df.head()"
   ]
  },
  {
   "cell_type": "markdown",
   "metadata": {},
   "source": [
    "##### Описание данных\n",
    "* сalls — количество звонков,\n",
    "* minutes — суммарная длительность звонков в минутах,\n",
    "* messages — количество sms-сообщений,\n",
    "* mb_used — израсходованный интернет-трафик в Мб,\n",
    "* is_ultra — каким тарифом пользовался в течение месяца («Ультра» — 1, «Смарт» — 0)."
   ]
  },
  {
   "cell_type": "markdown",
   "metadata": {},
   "source": [
    "#### Изучим общую информацию таблицы."
   ]
  },
  {
   "cell_type": "code",
   "execution_count": 4,
   "metadata": {},
   "outputs": [
    {
     "name": "stdout",
     "output_type": "stream",
     "text": [
      "<class 'pandas.core.frame.DataFrame'>\n",
      "RangeIndex: 3214 entries, 0 to 3213\n",
      "Data columns (total 5 columns):\n",
      "calls       3214 non-null float64\n",
      "minutes     3214 non-null float64\n",
      "messages    3214 non-null float64\n",
      "mb_used     3214 non-null float64\n",
      "is_ultra    3214 non-null int64\n",
      "dtypes: float64(4), int64(1)\n",
      "memory usage: 125.7 KB\n"
     ]
    }
   ],
   "source": [
    "df.info()"
   ]
  },
  {
   "cell_type": "markdown",
   "metadata": {},
   "source": [
    "*Рассмотрим полученную информацию подробнее. Всего в таблице 5 столбцов и 3214 строк, присутствуют два разные типы данных. Количество значений в столбцах не различается. Это говорит о том, что в данных нет пропущенных значений.*"
   ]
  },
  {
   "cell_type": "markdown",
   "metadata": {},
   "source": [
    "#### Изучим коэффициенты корреляции для всех столбцов."
   ]
  },
  {
   "cell_type": "code",
   "execution_count": 5,
   "metadata": {},
   "outputs": [
    {
     "data": {
      "text/html": [
       "<div>\n",
       "<style scoped>\n",
       "    .dataframe tbody tr th:only-of-type {\n",
       "        vertical-align: middle;\n",
       "    }\n",
       "\n",
       "    .dataframe tbody tr th {\n",
       "        vertical-align: top;\n",
       "    }\n",
       "\n",
       "    .dataframe thead th {\n",
       "        text-align: right;\n",
       "    }\n",
       "</style>\n",
       "<table border=\"1\" class=\"dataframe\">\n",
       "  <thead>\n",
       "    <tr style=\"text-align: right;\">\n",
       "      <th></th>\n",
       "      <th>calls</th>\n",
       "      <th>minutes</th>\n",
       "      <th>messages</th>\n",
       "      <th>mb_used</th>\n",
       "      <th>is_ultra</th>\n",
       "    </tr>\n",
       "  </thead>\n",
       "  <tbody>\n",
       "    <tr>\n",
       "      <td>calls</td>\n",
       "      <td>1.000000</td>\n",
       "      <td>0.982083</td>\n",
       "      <td>0.177385</td>\n",
       "      <td>0.286442</td>\n",
       "      <td>0.207122</td>\n",
       "    </tr>\n",
       "    <tr>\n",
       "      <td>minutes</td>\n",
       "      <td>0.982083</td>\n",
       "      <td>1.000000</td>\n",
       "      <td>0.173110</td>\n",
       "      <td>0.280967</td>\n",
       "      <td>0.206955</td>\n",
       "    </tr>\n",
       "    <tr>\n",
       "      <td>messages</td>\n",
       "      <td>0.177385</td>\n",
       "      <td>0.173110</td>\n",
       "      <td>1.000000</td>\n",
       "      <td>0.195721</td>\n",
       "      <td>0.203830</td>\n",
       "    </tr>\n",
       "    <tr>\n",
       "      <td>mb_used</td>\n",
       "      <td>0.286442</td>\n",
       "      <td>0.280967</td>\n",
       "      <td>0.195721</td>\n",
       "      <td>1.000000</td>\n",
       "      <td>0.198568</td>\n",
       "    </tr>\n",
       "    <tr>\n",
       "      <td>is_ultra</td>\n",
       "      <td>0.207122</td>\n",
       "      <td>0.206955</td>\n",
       "      <td>0.203830</td>\n",
       "      <td>0.198568</td>\n",
       "      <td>1.000000</td>\n",
       "    </tr>\n",
       "  </tbody>\n",
       "</table>\n",
       "</div>"
      ],
      "text/plain": [
       "             calls   minutes  messages   mb_used  is_ultra\n",
       "calls     1.000000  0.982083  0.177385  0.286442  0.207122\n",
       "minutes   0.982083  1.000000  0.173110  0.280967  0.206955\n",
       "messages  0.177385  0.173110  1.000000  0.195721  0.203830\n",
       "mb_used   0.286442  0.280967  0.195721  1.000000  0.198568\n",
       "is_ultra  0.207122  0.206955  0.203830  0.198568  1.000000"
      ]
     },
     "execution_count": 5,
     "metadata": {},
     "output_type": "execute_result"
    }
   ],
   "source": [
    "df.corr()"
   ]
  },
  {
   "cell_type": "markdown",
   "metadata": {},
   "source": [
    "*Как можно заметить из нашей матрицы, коррелируют между собой следующие столбцы calls и minutes. Таким образом мы обнаружили мультиколлинеарность. По этому один из параметров мы можем убрать из выборки. Данное действие не ухудшит качество наших моделей.*"
   ]
  },
  {
   "cell_type": "code",
   "execution_count": 6,
   "metadata": {},
   "outputs": [],
   "source": [
    "df = df.drop(['minutes'], axis=1)"
   ]
  },
  {
   "cell_type": "markdown",
   "metadata": {},
   "source": [
    "#### Оценим взаимосвязи в данных и влияние параметров на целевой признак."
   ]
  },
  {
   "cell_type": "code",
   "execution_count": 7,
   "metadata": {},
   "outputs": [
    {
     "data": {
      "text/plain": [
       "<seaborn.axisgrid.PairGrid at 0x7faf5921a350>"
      ]
     },
     "execution_count": 7,
     "metadata": {},
     "output_type": "execute_result"
    },
    {
     "data": {
      "image/png": "[encoded data removed]",
      "text/plain": [
       "<Figure size 764.5x720 with 20 Axes>"
      ]
     },
     "metadata": {
      "needs_background": "light"
     },
     "output_type": "display_data"
    }
   ],
   "source": [
    "sns.pairplot(df, hue='is_ultra', palette='Set1')"
   ]
  },
  {
   "cell_type": "markdown",
   "metadata": {},
   "source": [
    "<a id='section2'></a>"
   ]
  },
  {
   "cell_type": "markdown",
   "metadata": {},
   "source": [
    "### 1.2. Подготовка данных"
   ]
  },
  {
   "cell_type": "markdown",
   "metadata": {},
   "source": [
    "#### Обработаем дубликаты"
   ]
  },
  {
   "cell_type": "markdown",
   "metadata": {},
   "source": [
    "Необходимо установить наличие дубликатов."
   ]
  },
  {
   "cell_type": "code",
   "execution_count": 8,
   "metadata": {},
   "outputs": [
    {
     "data": {
      "text/plain": [
       "0"
      ]
     },
     "execution_count": 8,
     "metadata": {},
     "output_type": "execute_result"
    }
   ],
   "source": [
    "df.duplicated().sum()"
   ]
  },
  {
   "cell_type": "markdown",
   "metadata": {},
   "source": [
    "Дубликатов в таблице не обнаружено."
   ]
  },
  {
   "cell_type": "markdown",
   "metadata": {},
   "source": [
    "#### Изменим тип даных некоторых столбцов с float на integer."
   ]
  },
  {
   "cell_type": "code",
   "execution_count": 9,
   "metadata": {},
   "outputs": [],
   "source": [
    "df['calls'] = df['calls'].astype(int)\n",
    "df['messages'] = df['messages'].astype(int)"
   ]
  },
  {
   "cell_type": "markdown",
   "metadata": {},
   "source": [
    "#### ВЫВОД \n",
    "На данном этапе проекта мы изучили данные о поведении клиентов оператора мобильной связи. Изучили коэффициенты корреляции, и выяснили, что звонки и минуты скоррелированы. Проверили данные на наличие пропусков и дубликатов. Изменили тип данных некоторых столбцов."
   ]
  },
  {
   "cell_type": "markdown",
   "metadata": {},
   "source": [
    "<a id='section3'></a>"
   ]
  },
  {
   "cell_type": "markdown",
   "metadata": {},
   "source": [
    "## 2. Разбиение данных на выборки"
   ]
  },
  {
   "cell_type": "markdown",
   "metadata": {},
   "source": [
    "### 2.1. Извлекаем в отдельные переменные признаки и целевой признак."
   ]
  },
  {
   "cell_type": "code",
   "execution_count": 10,
   "metadata": {},
   "outputs": [],
   "source": [
    "features = df.drop(['is_ultra'], axis=1)\n",
    "target = df['is_ultra']"
   ]
  },
  {
   "cell_type": "markdown",
   "metadata": {},
   "source": [
    "<a id='section4'></a>"
   ]
  },
  {
   "cell_type": "markdown",
   "metadata": {},
   "source": [
    "### 2.2. Разделим наш набор данных на следующие выборки:\n",
    "* 60% - обучающий набор,\n",
    "* 20% - валидационный набор,\n",
    "* 20% - тестовый набор."
   ]
  },
  {
   "cell_type": "code",
   "execution_count": 11,
   "metadata": {},
   "outputs": [],
   "source": [
    "#Выделим обучающую выборку 60%\n",
    "features_train, features_valid_test, target_train, target_valid_test = train_test_split(\n",
    "    features, target, test_size=0.4, random_state=12345, stratify=target)"
   ]
  },
  {
   "cell_type": "code",
   "execution_count": 12,
   "metadata": {},
   "outputs": [],
   "source": [
    "#Разделим оставшиеся 40% на 2 равные части (валидационная и тестовая)\n",
    "features_test, features_valid, target_test, target_valid = train_test_split(\n",
    "    features_valid_test, target_valid_test, test_size=0.5, random_state=12345, stratify=target_valid_test)"
   ]
  },
  {
   "cell_type": "markdown",
   "metadata": {},
   "source": [
    "Выведем размеры выборок после их разбиения."
   ]
  },
  {
   "cell_type": "code",
   "execution_count": 13,
   "metadata": {},
   "outputs": [
    {
     "name": "stdout",
     "output_type": "stream",
     "text": [
      "features_train: (1928, 3)\n",
      "target_train: (1928,)\n",
      "features_valid: (643, 3)\n",
      "target_valid: (643,)\n",
      "features_test: (643, 3)\n",
      "target_test: (643,)\n"
     ]
    }
   ],
   "source": [
    "print('features_train:', features_train.shape)\n",
    "print('target_train:', target_train.shape)\n",
    "print('features_valid:', features_valid.shape)\n",
    "print('target_valid:', target_valid.shape)\n",
    "print('features_test:', features_test.shape)\n",
    "print('target_test:', target_test.shape)"
   ]
  },
  {
   "cell_type": "markdown",
   "metadata": {},
   "source": [
    "<a id='section5'></a>"
   ]
  },
  {
   "cell_type": "markdown",
   "metadata": {},
   "source": [
    "## 3. Исследование моделей"
   ]
  },
  {
   "cell_type": "markdown",
   "metadata": {},
   "source": [
    "### 3.1. Оценим качество трех моделей по умолчанию."
   ]
  },
  {
   "cell_type": "code",
   "execution_count": 14,
   "metadata": {},
   "outputs": [
    {
     "data": {
      "text/html": [
       "<div>\n",
       "<style scoped>\n",
       "    .dataframe tbody tr th:only-of-type {\n",
       "        vertical-align: middle;\n",
       "    }\n",
       "\n",
       "    .dataframe tbody tr th {\n",
       "        vertical-align: top;\n",
       "    }\n",
       "\n",
       "    .dataframe thead th {\n",
       "        text-align: right;\n",
       "    }\n",
       "</style>\n",
       "<table border=\"1\" class=\"dataframe\">\n",
       "  <thead>\n",
       "    <tr style=\"text-align: right;\">\n",
       "      <th></th>\n",
       "      <th>model</th>\n",
       "      <th>accuracy_default</th>\n",
       "    </tr>\n",
       "  </thead>\n",
       "  <tbody>\n",
       "    <tr>\n",
       "      <td>0</td>\n",
       "      <td>DTR</td>\n",
       "      <td>0.715397</td>\n",
       "    </tr>\n",
       "    <tr>\n",
       "      <td>1</td>\n",
       "      <td>RFC</td>\n",
       "      <td>0.796267</td>\n",
       "    </tr>\n",
       "    <tr>\n",
       "      <td>2</td>\n",
       "      <td>LR</td>\n",
       "      <td>0.710731</td>\n",
       "    </tr>\n",
       "  </tbody>\n",
       "</table>\n",
       "</div>"
      ],
      "text/plain": [
       "  model  accuracy_default\n",
       "0   DTR          0.715397\n",
       "1   RFC          0.796267\n",
       "2    LR          0.710731"
      ]
     },
     "execution_count": 14,
     "metadata": {},
     "output_type": "execute_result"
    }
   ],
   "source": [
    "models = []\n",
    "# для постоянства результата зададим random_state, равный 12345\n",
    "models.append(('DTR', DecisionTreeClassifier(random_state=12345)))\n",
    "models.append(('RFC', RandomForestClassifier(random_state=12345)))\n",
    "models.append(('LR', LogisticRegression(random_state=12345)))\n",
    "\n",
    "data = []\n",
    "results = []\n",
    "names = []\n",
    "for name, model in models:\n",
    "    model.fit(features_train, target_train) # обучаем модель на тренировочной выборке\n",
    "    predictions = model.predict(features_valid) # получаем предсказания модели на валидационной выборке\n",
    "    result = accuracy_score(target_valid, predictions) # посчитаем качество модели\n",
    "    results.append(result)\n",
    "    names.append(name)\n",
    "    data.append([name, result])\n",
    "    \n",
    "#сохраним результаты в отдельную таблицу\n",
    "modl = pd.DataFrame(data, columns=['model', 'accuracy_default'])\n",
    "modl  "
   ]
  },
  {
   "cell_type": "markdown",
   "metadata": {},
   "source": [
    "*В оценке качества моделей по умолчанию лучшей стал алгоритм случайный лес (RandomForestClassifier). Оценим качество моделей и на тренировочной выборке, чтобы понять, насколько переобучается модель.*"
   ]
  },
  {
   "cell_type": "markdown",
   "metadata": {},
   "source": [
    "<a id='section6'></a>"
   ]
  },
  {
   "cell_type": "markdown",
   "metadata": {},
   "source": [
    "### 3.2. Оценим качество моделей на тренировочной выборке."
   ]
  },
  {
   "cell_type": "code",
   "execution_count": 15,
   "metadata": {},
   "outputs": [
    {
     "data": {
      "text/html": [
       "<div>\n",
       "<style scoped>\n",
       "    .dataframe tbody tr th:only-of-type {\n",
       "        vertical-align: middle;\n",
       "    }\n",
       "\n",
       "    .dataframe tbody tr th {\n",
       "        vertical-align: top;\n",
       "    }\n",
       "\n",
       "    .dataframe thead th {\n",
       "        text-align: right;\n",
       "    }\n",
       "</style>\n",
       "<table border=\"1\" class=\"dataframe\">\n",
       "  <thead>\n",
       "    <tr style=\"text-align: right;\">\n",
       "      <th></th>\n",
       "      <th>model</th>\n",
       "      <th>accuracy_default</th>\n",
       "      <th>accuracy_train</th>\n",
       "    </tr>\n",
       "  </thead>\n",
       "  <tbody>\n",
       "    <tr>\n",
       "      <td>0</td>\n",
       "      <td>DTR</td>\n",
       "      <td>0.715397</td>\n",
       "      <td>1.000000</td>\n",
       "    </tr>\n",
       "    <tr>\n",
       "      <td>1</td>\n",
       "      <td>RFC</td>\n",
       "      <td>0.796267</td>\n",
       "      <td>0.979772</td>\n",
       "    </tr>\n",
       "    <tr>\n",
       "      <td>2</td>\n",
       "      <td>LR</td>\n",
       "      <td>0.710731</td>\n",
       "      <td>0.710581</td>\n",
       "    </tr>\n",
       "  </tbody>\n",
       "</table>\n",
       "</div>"
      ],
      "text/plain": [
       "  model  accuracy_default  accuracy_train\n",
       "0   DTR          0.715397        1.000000\n",
       "1   RFC          0.796267        0.979772\n",
       "2    LR          0.710731        0.710581"
      ]
     },
     "execution_count": 15,
     "metadata": {},
     "output_type": "execute_result"
    }
   ],
   "source": [
    "models = []\n",
    "models.append(('DTR', DecisionTreeClassifier(random_state=12345)))\n",
    "models.append(('RFC', RandomForestClassifier(random_state=12345)))\n",
    "models.append(('LR', LogisticRegression(random_state=12345)))\n",
    "\n",
    "data = []\n",
    "results = []\n",
    "names = []\n",
    "for name, model in models:\n",
    "    model.fit(features_train, target_train) # обучаем модель на тренировочной выборке\n",
    "    predictions = model.predict(features_train) # получаем предсказания модели на тренировочной выборке\n",
    "    result = accuracy_score(target_train, predictions) # посчитаем качество модели\n",
    "    results.append(result)\n",
    "    names.append(name)\n",
    "    data.append([result])\n",
    "\n",
    "\n",
    "#сохраним результаты в таблицу\n",
    "modl['accuracy_train'] = pd.DataFrame(data)\n",
    "modl  "
   ]
  },
  {
   "cell_type": "markdown",
   "metadata": {},
   "source": [
    "*Мы видим, что модель Дерево решений переобучилась. Модель Случайного леса близка к переобучению, а вот модель Логистическая регрессия почти не изменилась.*"
   ]
  },
  {
   "cell_type": "markdown",
   "metadata": {},
   "source": [
    "<a id='section7'></a>"
   ]
  },
  {
   "cell_type": "markdown",
   "metadata": {},
   "source": [
    "### 3.3. Улучшим модели."
   ]
  },
  {
   "cell_type": "markdown",
   "metadata": {},
   "source": [
    "Настроим гиперпараметры разных моделей. Для этого нам необходимо перебрать разные значения по сетке GridSearchCV и сравнить качество моделей в разных вариантах."
   ]
  },
  {
   "cell_type": "markdown",
   "metadata": {},
   "source": [
    "<a id='section8'></a>"
   ]
  },
  {
   "cell_type": "markdown",
   "metadata": {},
   "source": [
    "#### Случайный лес (RandomForestClassifier)"
   ]
  },
  {
   "cell_type": "code",
   "execution_count": 16,
   "metadata": {},
   "outputs": [],
   "source": [
    "model_RFC = RandomForestClassifier(random_state=12345)"
   ]
  },
  {
   "cell_type": "code",
   "execution_count": 17,
   "metadata": {},
   "outputs": [],
   "source": [
    "#Создаем сетку гиперпараметров\n",
    "parametrs = { 'n_estimators': range (10, 50, 10),\n",
    "              'max_depth': range (1,11,),\n",
    "              'min_samples_leaf': range (1,11)}\n",
    "grid = GridSearchCV(model_RFC, parametrs)"
   ]
  },
  {
   "cell_type": "markdown",
   "metadata": {},
   "source": [
    "Запускаем обучение"
   ]
  },
  {
   "cell_type": "code",
   "execution_count": 18,
   "metadata": {},
   "outputs": [
    {
     "name": "stdout",
     "output_type": "stream",
     "text": [
      "--- 78.46976637840271 seconds ---\n"
     ]
    }
   ],
   "source": [
    "#Посчитаем время обучения\n",
    "start_time = time.time()\n",
    "\n",
    "#Запускаем обучение\n",
    "grid.fit(features_train, target_train)\n",
    "\n",
    "#выводим потраченное время на обучение\n",
    "print(\"--- %s seconds ---\" % (time.time() - start_time))"
   ]
  },
  {
   "cell_type": "code",
   "execution_count": 19,
   "metadata": {},
   "outputs": [
    {
     "data": {
      "text/plain": [
       "{'max_depth': 10, 'min_samples_leaf': 2, 'n_estimators': 40}"
      ]
     },
     "execution_count": 19,
     "metadata": {},
     "output_type": "execute_result"
    }
   ],
   "source": [
    "#Выводим результат\n",
    "grid.best_params_"
   ]
  },
  {
   "cell_type": "code",
   "execution_count": 20,
   "metadata": {},
   "outputs": [
    {
     "name": "stdout",
     "output_type": "stream",
     "text": [
      "Качество RFC модели: 0.8195956454121306\n"
     ]
    }
   ],
   "source": [
    "#Обучаем модель RFC с лучшим гиперпараметрами\n",
    "model_RFC = RandomForestClassifier(\n",
    "    random_state=12345, n_estimators=30, max_depth=10, min_samples_leaf=2)\n",
    "model_RFC.fit(features_train, target_train)\n",
    "predictions_valid = model_RFC.predict(features_valid) \n",
    "accuracy = accuracy_score(target_valid, predictions_valid)\n",
    "print('Качество RFC модели:', accuracy)"
   ]
  },
  {
   "cell_type": "markdown",
   "metadata": {},
   "source": [
    "<a id='section9'></a>"
   ]
  },
  {
   "cell_type": "markdown",
   "metadata": {},
   "source": [
    "#### Дерево решений (DecisionTreeClassifier)"
   ]
  },
  {
   "cell_type": "code",
   "execution_count": 21,
   "metadata": {},
   "outputs": [],
   "source": [
    "model_DTR=  DecisionTreeClassifier(random_state=12345)"
   ]
  },
  {
   "cell_type": "code",
   "execution_count": 22,
   "metadata": {},
   "outputs": [],
   "source": [
    "#Создаем сетку гиперпараметров\n",
    "parametrs = {'criterion':['gini','entropy'],\n",
    "             'max_depth':range (1,11,)}\n",
    "grid = GridSearchCV(model_DTR, parametrs)"
   ]
  },
  {
   "cell_type": "code",
   "execution_count": 23,
   "metadata": {},
   "outputs": [
    {
     "data": {
      "text/plain": [
       "{'criterion': 'gini', 'max_depth': 7}"
      ]
     },
     "execution_count": 23,
     "metadata": {},
     "output_type": "execute_result"
    }
   ],
   "source": [
    "#Запускаем обучение\n",
    "grid.fit(features_train, target_train)\n",
    "#Выводим результат\n",
    "grid.best_params_"
   ]
  },
  {
   "cell_type": "code",
   "execution_count": 24,
   "metadata": {},
   "outputs": [
    {
     "name": "stdout",
     "output_type": "stream",
     "text": [
      "Качество DTR модели: 0.7993779160186625\n"
     ]
    }
   ],
   "source": [
    "#Обучаем модель DTR с лучшим гиперпараметрами\n",
    "model_DTR = DecisionTreeClassifier(random_state=12345, criterion='entropy', max_depth=3)\n",
    "model_DTR.fit(features_train, target_train)\n",
    "predictions_valid = model_DTR.predict(features_valid) \n",
    "accuracy = accuracy_score(target_valid, predictions_valid)\n",
    "print('Качество DTR модели:', accuracy)"
   ]
  },
  {
   "cell_type": "markdown",
   "metadata": {},
   "source": [
    "<a id='section10'></a>"
   ]
  },
  {
   "cell_type": "markdown",
   "metadata": {},
   "source": [
    "#### Логистическая регрессия (LogisticRegression)"
   ]
  },
  {
   "cell_type": "code",
   "execution_count": 25,
   "metadata": {},
   "outputs": [],
   "source": [
    "model_LR = LogisticRegression(random_state=12345)"
   ]
  },
  {
   "cell_type": "code",
   "execution_count": 26,
   "metadata": {},
   "outputs": [],
   "source": [
    "#Создаем сетку гиперпараметров\n",
    "parametrs = {'C':range (1,20,), 'penalty':[\"l1\",\"l2\"]}\n",
    "grid = GridSearchCV(model_LR, parametrs)"
   ]
  },
  {
   "cell_type": "code",
   "execution_count": 27,
   "metadata": {},
   "outputs": [
    {
     "data": {
      "text/plain": [
       "{'C': 3, 'penalty': 'l1'}"
      ]
     },
     "execution_count": 27,
     "metadata": {},
     "output_type": "execute_result"
    }
   ],
   "source": [
    "#Запускаем обучение\n",
    "grid.fit(features_train, target_train)\n",
    "#Выводим результат\n",
    "grid.best_params_"
   ]
  },
  {
   "cell_type": "code",
   "execution_count": 28,
   "metadata": {},
   "outputs": [
    {
     "name": "stdout",
     "output_type": "stream",
     "text": [
      "Качество LR модели: 0.7465007776049767\n"
     ]
    }
   ],
   "source": [
    "#Обучаем модель LR с лучшим гиперпараметрами\n",
    "model_LR = LogisticRegression(random_state=12345, C=1, penalty='l1')\n",
    "model_LR.fit(features_train, target_train)\n",
    "predictions_valid = model_LR.predict(features_valid) \n",
    "accuracy = accuracy_score(target_valid, predictions_valid)\n",
    "print('Качество LR модели:', accuracy)"
   ]
  },
  {
   "cell_type": "markdown",
   "metadata": {},
   "source": [
    "<a id='section11'></a>"
   ]
  },
  {
   "cell_type": "markdown",
   "metadata": {},
   "source": [
    "### 3.4. Добавим получившиеся метрики в таблицу modl, и выберем лучшую модель."
   ]
  },
  {
   "cell_type": "code",
   "execution_count": 29,
   "metadata": {},
   "outputs": [
    {
     "data": {
      "text/html": [
       "<div>\n",
       "<style scoped>\n",
       "    .dataframe tbody tr th:only-of-type {\n",
       "        vertical-align: middle;\n",
       "    }\n",
       "\n",
       "    .dataframe tbody tr th {\n",
       "        vertical-align: top;\n",
       "    }\n",
       "\n",
       "    .dataframe thead th {\n",
       "        text-align: right;\n",
       "    }\n",
       "</style>\n",
       "<table border=\"1\" class=\"dataframe\">\n",
       "  <thead>\n",
       "    <tr style=\"text-align: right;\">\n",
       "      <th></th>\n",
       "      <th>model</th>\n",
       "      <th>accuracy_default</th>\n",
       "      <th>accuracy_train</th>\n",
       "      <th>accuracy_improved</th>\n",
       "    </tr>\n",
       "  </thead>\n",
       "  <tbody>\n",
       "    <tr>\n",
       "      <td>0</td>\n",
       "      <td>DTR</td>\n",
       "      <td>0.715397</td>\n",
       "      <td>1.000000</td>\n",
       "      <td>0.819595</td>\n",
       "    </tr>\n",
       "    <tr>\n",
       "      <td>1</td>\n",
       "      <td>RFC</td>\n",
       "      <td>0.796267</td>\n",
       "      <td>0.979772</td>\n",
       "      <td>0.799377</td>\n",
       "    </tr>\n",
       "    <tr>\n",
       "      <td>2</td>\n",
       "      <td>LR</td>\n",
       "      <td>0.710731</td>\n",
       "      <td>0.710581</td>\n",
       "      <td>0.746500</td>\n",
       "    </tr>\n",
       "  </tbody>\n",
       "</table>\n",
       "</div>"
      ],
      "text/plain": [
       "  model  accuracy_default  accuracy_train  accuracy_improved\n",
       "0   DTR          0.715397        1.000000           0.819595\n",
       "1   RFC          0.796267        0.979772           0.799377\n",
       "2    LR          0.710731        0.710581           0.746500"
      ]
     },
     "execution_count": 29,
     "metadata": {},
     "output_type": "execute_result"
    }
   ],
   "source": [
    "modl['accuracy_improved']= [0.819595, 0.799377, 0.746500]\n",
    "modl"
   ]
  },
  {
   "cell_type": "markdown",
   "metadata": {},
   "source": [
    "*По таблице можно сделать вывод, что лучше других с задачей справился метод RandomForest. Несмотря на то, что модель Дерево решения выдало результат с настроенными гиперпараметрами выше, чем у случайного леса, модель Дерево решения больше склонна к переобучению. Поэтому для дальнейшего анализа выберем модель Случайный лес (RandomForestClassifier).*"
   ]
  },
  {
   "cell_type": "markdown",
   "metadata": {},
   "source": [
    "#### ВЫВОД \n",
    "\n",
    "На этапе исследования моделей, лучшей оказалась модель случайного леса (`RandomForestClassifier`). Для улучшения этой модели мы настроили гиперпараметры. Для этого перебрали разные значения по сетке GridSearchCV и сравнили качество моделей в разных вариантах. Затем обучили модель с лучшим значением `accuracy` на тренировочной выборке, и добились лучшего качества модели в 78%."
   ]
  },
  {
   "cell_type": "markdown",
   "metadata": {},
   "source": [
    "<a id='section12'></a>"
   ]
  },
  {
   "cell_type": "markdown",
   "metadata": {},
   "source": [
    "## 4. Проверка модели на тестовой выборке"
   ]
  },
  {
   "cell_type": "markdown",
   "metadata": {},
   "source": [
    "### 4.1. Объединим тренировачную и валидационную выборки."
   ]
  },
  {
   "cell_type": "code",
   "execution_count": 30,
   "metadata": {},
   "outputs": [],
   "source": [
    "features_train_valid = pd.concat([features_train, features_valid])\n",
    "target_train_valid = pd.concat([target_train, target_valid])"
   ]
  },
  {
   "cell_type": "markdown",
   "metadata": {},
   "source": [
    "<a id='section13'></a>"
   ]
  },
  {
   "cell_type": "markdown",
   "metadata": {},
   "source": [
    "### 4.2. Обучим модель на полных данных."
   ]
  },
  {
   "cell_type": "code",
   "execution_count": 31,
   "metadata": {},
   "outputs": [
    {
     "data": {
      "text/plain": [
       "RandomForestClassifier(bootstrap=True, class_weight=None, criterion='gini',\n",
       "                       max_depth=10, max_features='auto', max_leaf_nodes=None,\n",
       "                       min_impurity_decrease=0.0, min_impurity_split=None,\n",
       "                       min_samples_leaf=2, min_samples_split=2,\n",
       "                       min_weight_fraction_leaf=0.0, n_estimators=30,\n",
       "                       n_jobs=None, oob_score=False, random_state=12345,\n",
       "                       verbose=0, warm_start=False)"
      ]
     },
     "execution_count": 31,
     "metadata": {},
     "output_type": "execute_result"
    }
   ],
   "source": [
    "model_RFC.fit(features_train_valid, target_train_valid)"
   ]
  },
  {
   "cell_type": "markdown",
   "metadata": {},
   "source": [
    "<a id='section14'></a>"
   ]
  },
  {
   "cell_type": "markdown",
   "metadata": {},
   "source": [
    "### 4.3. Получим предсказания и посчитаем качество модели на тестовой выборке"
   ]
  },
  {
   "cell_type": "code",
   "execution_count": 32,
   "metadata": {},
   "outputs": [
    {
     "data": {
      "text/plain": [
       "0.8133748055987559"
      ]
     },
     "execution_count": 32,
     "metadata": {},
     "output_type": "execute_result"
    }
   ],
   "source": [
    "predictions_test = model_RFC.predict(features_test) # получите предсказания модели\n",
    "accuracy_test = accuracy_score(target_test, predictions_test) # посчитайте качество модели\n",
    "accuracy_test"
   ]
  },
  {
   "cell_type": "markdown",
   "metadata": {},
   "source": [
    "*Качество финальной модели на тестовой выборке показало 81%.*"
   ]
  },
  {
   "cell_type": "markdown",
   "metadata": {},
   "source": [
    "<a id='section15'></a>"
   ]
  },
  {
   "cell_type": "markdown",
   "metadata": {},
   "source": [
    "## 5. Проверка модели на адекватность"
   ]
  },
  {
   "cell_type": "markdown",
   "metadata": {},
   "source": [
    "### 5.1. Создадим константную модель."
   ]
  },
  {
   "cell_type": "code",
   "execution_count": 33,
   "metadata": {},
   "outputs": [
    {
     "data": {
      "text/plain": [
       "0.6935044729677169"
      ]
     },
     "execution_count": 33,
     "metadata": {},
     "output_type": "execute_result"
    }
   ],
   "source": [
    "dummy_clf = DummyClassifier(strategy=\"most_frequent\")\n",
    "dummy_clf.fit(features_train_valid, target_train_valid)\n",
    "DummyClassifier(strategy='most_frequent')\n",
    "dummy_clf.predict(features_train_valid)\n",
    "dummy_clf.score(features_train_valid, target_train_valid)"
   ]
  },
  {
   "cell_type": "markdown",
   "metadata": {},
   "source": [
    "<a id='section16'></a>"
   ]
  },
  {
   "cell_type": "markdown",
   "metadata": {},
   "source": [
    "### 5.2. Сравним показатель точности константной модели и финальной."
   ]
  },
  {
   "cell_type": "code",
   "execution_count": 34,
   "metadata": {},
   "outputs": [
    {
     "name": "stdout",
     "output_type": "stream",
     "text": [
      "accuracy_score константой модели: 0.6935044729677169\n",
      "accuracy_score финальной модели: 0.8133748055987559\n"
     ]
    }
   ],
   "source": [
    "print('accuracy_score константой модели:', dummy_clf.score(features_train_valid, target_train_valid))\n",
    "print('accuracy_score финальной модели:', accuracy_score(target_test, predictions_test))"
   ]
  },
  {
   "cell_type": "markdown",
   "metadata": {},
   "source": [
    "*Финальная модель показывает результаты лучше, чем константная модель — модель можно считать адекватной.*"
   ]
  },
  {
   "cell_type": "markdown",
   "metadata": {},
   "source": [
    "<a id='section17'></a>"
   ]
  },
  {
   "cell_type": "markdown",
   "metadata": {},
   "source": [
    "## 6. Общий вывод\n",
    "\n",
    "На основе предоставленных нам данных, мы получили общее представление о поведении клиентов, которые перешли на новые тарифы «Смарт» и «Ультра». Нам необходимо было построить модель для задачи классификации, которая выберет подходящий тариф.\n",
    "    \n",
    "Для постройки модели мы использовали готовые библиотеки `Scikit-Learn`.\n",
    "    \n",
    "Сначала мы извлекли в отдельные переменные признаки и целевой признак.\n",
    "    \n",
    "Для построения предсказательной модели мы разбили исходные данные на обучающую, валидационную и тестовую выборки, в соотношении 60% – 20% – 20% объема исходных данных. Осуществили разделение данных методом `train_test_split()` и указали параметр `random_state`, равный 12345, для постоянства результата.\n",
    "    \n",
    "Следующим этапом нашей работы стало - исследование моделей. Мы оценили качество трех моделей, таких как, дерево решений, случайный лес и логистическая регрессия. Но оценки качества моделей по умолчанию нам недостаточно, поэтому мы оценили модель на обучающей выборке, а так же нам необходимо было улучшить модели путем изменения гиперпараметров. Для этого нам необходимо было перебрать разные значения по сетке `GridSearchCV` и сравнить качество моделей в разных вариантах.\n",
    "    \n",
    "Лучший результат показал алгоритм случайный лес (RandomForestClassifier). Несмотря на то, что модель Дерево решения выдало результат с настроенными гиперпараметрами выше, чем у случайного леса, модель Дерево решения больше склонна к переобучению. Поэтому для дальнейшего анализа выбрали модель Случайный лес (RandomForestClassifier). Качество данной модели составило 78%.\n",
    "    \n",
    "После этого, мы объединили тестовую и валидационную выборку и обучили модель на полных данных.\n",
    "    \n",
    "Далее, проверили модель на тестовой выборке. Качество финальной модели на тестовой выборке показало 81%.\n",
    "    \n",
    "И последним шагом, нам оставалось проверить модель на адекватность. Для этого необходимо было сравнить качество финальной модели с качеством наилучшей константной модели, в этом нам помог метод `DummyClassifier`. Финальная модель показала результаты лучше, чем константная модель, значит, финальную модель можно считать адекватной.\n",
    "    \n",
    "Таким образом, полученная модель поможет маркетологам лучше определять поведение клиентов и предложить пользователям новый тариф 'Смарт'."
   ]
  }
 ],
 "metadata": {
  "kernelspec": {
   "display_name": "Python 3",
   "language": "python",
   "name": "python3"
  },
  "language_info": {
   "codemirror_mode": {
    "name": "ipython",
    "version": 3
   },
   "file_extension": ".py",
   "mimetype": "text/x-python",
   "name": "python",
   "nbconvert_exporter": "python",
   "pygments_lexer": "ipython3",
   "version": "3.7.6"
  }
 },
 "nbformat": 4,
 "nbformat_minor": 2
}
