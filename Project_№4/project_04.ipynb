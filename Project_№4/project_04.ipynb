{
 "cells": [
  {
   "cell_type": "markdown",
   "metadata": {},
   "source": [
    "# Выбор региона для разработки новых нефтяных скважин"
   ]
  },
  {
   "cell_type": "markdown",
   "metadata": {},
   "source": [
    "Добывающей компании «ГлавРосГосНефть» необходимо решить, где бурить новую скважину.\n",
    "\n",
    "Нам предоставлены пробы нефти в трёх регионах: в каждом 10 000 месторождений, где измерили качество нефти и объём её запасов. Нам предстоит построить модель машинного обучения, которая поможет определить регион, где добыча принесёт наибольшую прибыль. Проанализируем возможную прибыль и риски техникой Bootstrap.\n",
    "\n",
    "Шаги для выбора локации:\n",
    "\n",
    "- В избранном регионе ищут месторождения, для каждого определяют значения признаков;\n",
    "- Строят модель и оценивают объём запасов;\n",
    "- Выбирают месторождения с самым высокими оценками значений. Количество месторождений зависит от бюджета компании и стоимости разработки одной скважины;\n",
    "- Прибыль равна суммарной прибыли отобранных месторождений."
   ]
  },
  {
   "cell_type": "markdown",
   "metadata": {},
   "source": [
    "###### Данное исследование разделим на несколько этапов.\n",
    "\n",
    "##### 1. Загрузка и подготовка данных:\n",
    "* [1.1. Загрузка библиотек, изучение файлов с данными, получение общей информации.](#section1)\n",
    "* [1.2. Изучение коэффициентов корреляции.](#section2)\n",
    "\n",
    "##### 2. Обучение и проверка модели:\n",
    "* [2.1. Разбиение данных на выборки.](#section3)\n",
    "* [2.2. Обучение и предсказания модели на валидационной выборке.](#section4)\n",
    "* [2.3. Получение среднего запаса предсказанного сырья, r2 и RMSE.](#section5)\n",
    "\n",
    "##### 3. Подготовка к расчёту прибыли:\n",
    "* [3.1. Сохранение значений для расчётов в отдельные переменные.](#section6)\n",
    "* [3.2. Рассчет достаточного объема сырья для безубыточной разработки новой скважины.](#section7)\n",
    "\n",
    "##### 4. Расчёт прибыли и рисков :\n",
    "* [4.1. Написание функции для расчёта прибыли по выбранным скважинам и предсказаниям модели.](#section8)\n",
    "* [4.2. Нахождение средней прибыли, 95%-ого доверительного интервала и риска убытков.](#section9)\n",
    "\n",
    "##### 5. Общий вывод:\n",
    "* [5.1. Формулировка общего вывода.](#section10)"
   ]
  },
  {
   "cell_type": "markdown",
   "metadata": {},
   "source": [
    "<a id='section1'></a>"
   ]
  },
  {
   "cell_type": "markdown",
   "metadata": {},
   "source": [
    "# 1. Загрузка и подготовка данных"
   ]
  },
  {
   "cell_type": "markdown",
   "metadata": {},
   "source": [
    "## 1.1. Загрузка библиотек, изучение файлов с данными, получение общей информации."
   ]
  },
  {
   "cell_type": "markdown",
   "metadata": {},
   "source": [
    "### Импортируем все необходимые библиотеки."
   ]
  },
  {
   "cell_type": "code",
   "execution_count": 1,
   "metadata": {},
   "outputs": [],
   "source": [
    "import pandas as pd \n",
    "import numpy as np\n",
    "import matplotlib.pyplot as plt\n",
    "\n",
    "from sklearn.model_selection import train_test_split\n",
    "\n",
    "from sklearn.preprocessing import StandardScaler\n",
    "\n",
    "from warnings import simplefilter\n",
    "simplefilter(action='ignore', category=FutureWarning)\n",
    "\n",
    "\n",
    "from sklearn.linear_model import LinearRegression\n",
    "\n",
    "\n",
    "#Импортируем необходимые метрики \n",
    "from sklearn.metrics import accuracy_score, recall_score, precision_score, f1_score, roc_auc_score,r2_score\n",
    "from sklearn.metrics import confusion_matrix, roc_curve, mean_squared_error\n",
    "\n",
    "from sklearn.utils import shuffle\n",
    "\n",
    "import seaborn as sns\n",
    "\n",
    "from math import sqrt\n",
    "from numpy.random import RandomState\n",
    "\n"
   ]
  },
  {
   "cell_type": "markdown",
   "metadata": {},
   "source": [
    "### Прочитаем файл с данными."
   ]
  },
  {
   "cell_type": "code",
   "execution_count": 2,
   "metadata": {},
   "outputs": [],
   "source": [
    "#<чтение данных из файла>\n",
    "df1 = pd.read_csv('/datasets/geo_data_0.csv')\n",
    "df2 = pd.read_csv('/datasets/geo_data_1.csv')\n",
    "df3 = pd.read_csv('/datasets/geo_data_2.csv')"
   ]
  },
  {
   "cell_type": "markdown",
   "metadata": {},
   "source": [
    "### Получим первые строки таблицы."
   ]
  },
  {
   "cell_type": "code",
   "execution_count": 3,
   "metadata": {},
   "outputs": [
    {
     "name": "stdout",
     "output_type": "stream",
     "text": [
      "      id        f0        f1        f2     product\n",
      "0  txEyH  0.705745 -0.497823  1.221170  105.280062\n",
      "1  2acmU  1.334711 -0.340164  4.365080   73.037750\n",
      "2  409Wp  1.022732  0.151990  1.419926   85.265647\n",
      "3  iJLyR -0.032172  0.139033  2.978566  168.620776\n",
      "4  Xdl7t  1.988431  0.155413  4.751769  154.036647\n",
      "      id         f0         f1        f2     product\n",
      "0  kBEdx -15.001348  -8.276000 -0.005876    3.179103\n",
      "1  62mP7  14.272088  -3.475083  0.999183   26.953261\n",
      "2  vyE1P   6.263187  -5.948386  5.001160  134.766305\n",
      "3  KcrkZ -13.081196 -11.506057  4.999415  137.945408\n",
      "4  AHL4O  12.702195  -8.147433  5.004363  134.766305\n",
      "      id        f0        f1        f2     product\n",
      "0  fwXo0 -1.146987  0.963328 -0.828965   27.758673\n",
      "1  WJtFt  0.262778  0.269839 -2.530187   56.069697\n",
      "2  ovLUW  0.194587  0.289035 -5.586433   62.871910\n",
      "3  q6cA6  2.236060 -0.553760  0.930038  114.572842\n",
      "4  WPMUX -0.515993  1.716266  5.899011  149.600746\n"
     ]
    }
   ],
   "source": [
    "print(df1.head())\n",
    "print(df2.head())\n",
    "print(df3.head())"
   ]
  },
  {
   "cell_type": "markdown",
   "metadata": {},
   "source": [
    "Известно, что в каждой таблице присутствуют следующие столбцы:\n",
    "\n",
    "признаки:\n",
    "* id — уникальный идентификатор скважины\n",
    "* f0, f1, f2 — три признака точек\n",
    "\n",
    "целевой признак:\n",
    "* product — объём запасов в скважине (тыс. баррелей)."
   ]
  },
  {
   "cell_type": "markdown",
   "metadata": {},
   "source": [
    "### Изучим общую информацию таблицы."
   ]
  },
  {
   "cell_type": "code",
   "execution_count": 4,
   "metadata": {},
   "outputs": [
    {
     "name": "stdout",
     "output_type": "stream",
     "text": [
      "<class 'pandas.core.frame.DataFrame'>\n",
      "RangeIndex: 100000 entries, 0 to 99999\n",
      "Data columns (total 5 columns):\n",
      "id         100000 non-null object\n",
      "f0         100000 non-null float64\n",
      "f1         100000 non-null float64\n",
      "f2         100000 non-null float64\n",
      "product    100000 non-null float64\n",
      "dtypes: float64(4), object(1)\n",
      "memory usage: 3.8+ MB\n",
      "None\n",
      "<class 'pandas.core.frame.DataFrame'>\n",
      "RangeIndex: 100000 entries, 0 to 99999\n",
      "Data columns (total 5 columns):\n",
      "id         100000 non-null object\n",
      "f0         100000 non-null float64\n",
      "f1         100000 non-null float64\n",
      "f2         100000 non-null float64\n",
      "product    100000 non-null float64\n",
      "dtypes: float64(4), object(1)\n",
      "memory usage: 3.8+ MB\n",
      "None\n",
      "<class 'pandas.core.frame.DataFrame'>\n",
      "RangeIndex: 100000 entries, 0 to 99999\n",
      "Data columns (total 5 columns):\n",
      "id         100000 non-null object\n",
      "f0         100000 non-null float64\n",
      "f1         100000 non-null float64\n",
      "f2         100000 non-null float64\n",
      "product    100000 non-null float64\n",
      "dtypes: float64(4), object(1)\n",
      "memory usage: 3.8+ MB\n",
      "None\n"
     ]
    }
   ],
   "source": [
    "print(df1.info())\n",
    "print(df2.info())\n",
    "print(df3.info())"
   ]
  },
  {
   "cell_type": "markdown",
   "metadata": {},
   "source": [
    "*Рассмотрим полученную информацию подробнее. Всего в таблицах по 5 столбцов и 100000 строк, присутствуют два типа данных. Количество значений в столбцах не различается. Это говорит о том, что в данных нет пропущенных значений.*"
   ]
  },
  {
   "cell_type": "code",
   "execution_count": 5,
   "metadata": {},
   "outputs": [
    {
     "name": "stdout",
     "output_type": "stream",
     "text": [
      "                  f0             f1             f2        product\n",
      "count  100000.000000  100000.000000  100000.000000  100000.000000\n",
      "mean        0.500419       0.250143       2.502647      92.500000\n",
      "std         0.871832       0.504433       3.248248      44.288691\n",
      "min        -1.408605      -0.848218     -12.088328       0.000000\n",
      "25%        -0.072580      -0.200881       0.287748      56.497507\n",
      "50%         0.502360       0.250252       2.515969      91.849972\n",
      "75%         1.073581       0.700646       4.715088     128.564089\n",
      "max         2.362331       1.343769      16.003790     185.364347\n",
      "                  f0             f1             f2        product\n",
      "count  100000.000000  100000.000000  100000.000000  100000.000000\n",
      "mean        1.141296      -4.796579       2.494541      68.825000\n",
      "std         8.965932       5.119872       1.703572      45.944423\n",
      "min       -31.609576     -26.358598      -0.018144       0.000000\n",
      "25%        -6.298551      -8.267985       1.000021      26.953261\n",
      "50%         1.153055      -4.813172       2.011479      57.085625\n",
      "75%         8.621015      -1.332816       3.999904     107.813044\n",
      "max        29.421755      18.734063       5.019721     137.945408\n",
      "                  f0             f1             f2        product\n",
      "count  100000.000000  100000.000000  100000.000000  100000.000000\n",
      "mean        0.002023      -0.002081       2.495128      95.000000\n",
      "std         1.732045       1.730417       3.473445      44.749921\n",
      "min        -8.760004      -7.084020     -11.970335       0.000000\n",
      "25%        -1.162288      -1.174820       0.130359      59.450441\n",
      "50%         0.009424      -0.009482       2.484236      94.925613\n",
      "75%         1.158535       1.163678       4.858794     130.595027\n",
      "max         7.238262       7.844801      16.739402     190.029838\n"
     ]
    }
   ],
   "source": [
    "print(df1.describe())\n",
    "print(df2.describe())\n",
    "print(df3.describe())"
   ]
  },
  {
   "cell_type": "markdown",
   "metadata": {},
   "source": [
    "*Рассмотрим полученную информацию подробнее. Аномалий не обнаружено. Можно заметить, что в каждом регионе есть точки, где объем запасов в скважине нулевые. Наибольший средний объем запаса нефти наблюдается у 3-его региона, а наименьший во 2-ом регионе.*"
   ]
  },
  {
   "cell_type": "markdown",
   "metadata": {},
   "source": [
    "<a id='section2'></a>"
   ]
  },
  {
   "cell_type": "markdown",
   "metadata": {},
   "source": [
    "## 1.2. Изучение коэффициентов корреляции."
   ]
  },
  {
   "cell_type": "code",
   "execution_count": 6,
   "metadata": {},
   "outputs": [
    {
     "name": "stdout",
     "output_type": "stream",
     "text": [
      "               f0        f1        f2   product\n",
      "f0       1.000000 -0.440723 -0.003153  0.143536\n",
      "f1      -0.440723  1.000000  0.001724 -0.192356\n",
      "f2      -0.003153  0.001724  1.000000  0.483663\n",
      "product  0.143536 -0.192356  0.483663  1.000000\n",
      "               f0        f1        f2   product\n",
      "f0       1.000000  0.182287 -0.001777 -0.030491\n",
      "f1       0.182287  1.000000 -0.002595 -0.010155\n",
      "f2      -0.001777 -0.002595  1.000000  0.999397\n",
      "product -0.030491 -0.010155  0.999397  1.000000\n",
      "               f0        f1        f2   product\n",
      "f0       1.000000  0.000528 -0.000448 -0.001987\n",
      "f1       0.000528  1.000000  0.000779 -0.001012\n",
      "f2      -0.000448  0.000779  1.000000  0.445871\n",
      "product -0.001987 -0.001012  0.445871  1.000000\n"
     ]
    }
   ],
   "source": [
    "print(df1.corr())\n",
    "print(df2.corr())\n",
    "print(df3.corr())"
   ]
  },
  {
   "cell_type": "markdown",
   "metadata": {},
   "source": [
    "*Можно заметить, что во 2-ом регионе признак f2 сильно корелирует с product.*"
   ]
  },
  {
   "cell_type": "markdown",
   "metadata": {},
   "source": [
    "## ВЫВОД \n",
    "На данном этапе проекта мы изучили данные о каждом из регионов. Проверили данные на наличие пропусков.\n",
    "Обнаружили, что в каждом регионе есть пустые скважины. Наибольший средний объем запасов нефти в скважине зафиксирован в 3-ем регионе, а наименьший — во 2-ом. Так же обнаружили корреляцию между признаками `f2` и `product` во 2-ом регионе, в других регионах эти признаки не коррелируют."
   ]
  },
  {
   "cell_type": "markdown",
   "metadata": {},
   "source": [
    "<a id='section3'></a>"
   ]
  },
  {
   "cell_type": "markdown",
   "metadata": {},
   "source": [
    "# 2. Обучение и проверка модели."
   ]
  },
  {
   "cell_type": "markdown",
   "metadata": {},
   "source": [
    "## 2.1. Разбиение данных на выборки."
   ]
  },
  {
   "cell_type": "markdown",
   "metadata": {},
   "source": [
    "### Разделим наш набор данных на следующие выборки:\n",
    "* 75% - обучающий набор,\n",
    "* 25% - валидационный набор."
   ]
  },
  {
   "cell_type": "markdown",
   "metadata": {},
   "source": [
    "Удалим признак `id`, он не представляет ценности для качества будущей модели."
   ]
  },
  {
   "cell_type": "code",
   "execution_count": 7,
   "metadata": {},
   "outputs": [],
   "source": [
    "state=np.random.RandomState(12345)\n",
    "\n",
    "#1-ый регион\n",
    "feature_1 = df1.drop(['id', 'product'], axis=1)\n",
    "target_1 = df1['product']\n",
    "feature_train_1, feature_valid_1, target_train_1, target_valid_1 = train_test_split(\n",
    "        feature_1, target_1, test_size=0.25, random_state=state)\n",
    "\n",
    "#2-ой регион\n",
    "feature_2 = df2.drop(['id', 'product'], axis=1)\n",
    "target_2 = df2['product']\n",
    "feature_train_2, feature_valid_2, target_train_2, target_valid_2 = train_test_split(\n",
    "        feature_2, target_2, test_size=0.25, random_state=state)\n",
    "\n",
    "#3-ий регион\n",
    "feature_3 = df3.drop(['id', 'product'], axis=1)\n",
    "target_3 = df3['product']\n",
    "feature_train_3, feature_valid_3, target_train_3, target_valid_3 = train_test_split(\n",
    "        feature_3, target_3, test_size=0.25, random_state=state)"
   ]
  },
  {
   "cell_type": "markdown",
   "metadata": {},
   "source": [
    "<a id='section4'></a>"
   ]
  },
  {
   "cell_type": "markdown",
   "metadata": {},
   "source": [
    "## 2.2. Обучение и предсказания моделей на валидационной выборке."
   ]
  },
  {
   "cell_type": "code",
   "execution_count": 8,
   "metadata": {},
   "outputs": [],
   "source": [
    "def pred_model(feature_train, target_train, feature_valid):\n",
    "    model = LinearRegression()\n",
    "    model.fit(feature_train, target_train)\n",
    "    predictions = model.predict(feature_valid)\n",
    "    return predictions"
   ]
  },
  {
   "cell_type": "markdown",
   "metadata": {},
   "source": [
    "<a id='section5'></a>"
   ]
  },
  {
   "cell_type": "code",
   "execution_count": 9,
   "metadata": {},
   "outputs": [],
   "source": [
    "#1-ый регион\n",
    "predictions_1 = pred_model(feature_train_1, target_train_1, feature_valid_1)\n",
    "\n",
    "#2-ой регион\n",
    "predictions_2 = pred_model(feature_train_2, target_train_2, feature_valid_2)\n",
    "\n",
    "#3-ий регион\n",
    "predictions_3 = pred_model(feature_train_3, target_train_3, feature_valid_3)"
   ]
  },
  {
   "cell_type": "markdown",
   "metadata": {},
   "source": [
    "## 2.3. Получение среднего запаса предсказанного сырья, r2 и RMSE."
   ]
  },
  {
   "cell_type": "code",
   "execution_count": 10,
   "metadata": {},
   "outputs": [],
   "source": [
    "#1-ый регион\n",
    "RMSE_1 = sqrt(mean_squared_error(target_valid_1, predictions_1)) #квадратный корень из средней квадратичной ошибки\n",
    "mean_1 = predictions_1.mean() #средний запас предсказанного сырья\n",
    "r2_1 = r2_score(target_valid_1, predictions_1) #функция оценки регрессии\n",
    "\n",
    "#2-ой регион\n",
    "RMSE_2 = sqrt(mean_squared_error(target_valid_2, predictions_2))\n",
    "mean_2 = predictions_2.mean()\n",
    "r2_2 = r2_score(target_valid_2, predictions_2)\n",
    "\n",
    "#3-ий регион\n",
    "RMSE_3 = sqrt(mean_squared_error(target_valid_3, predictions_3))\n",
    "mean_3 = predictions_3.mean()\n",
    "r2_3 = r2_score(target_valid_3, predictions_3)"
   ]
  },
  {
   "cell_type": "code",
   "execution_count": 11,
   "metadata": {},
   "outputs": [
    {
     "data": {
      "text/html": [
       "<div>\n",
       "<style scoped>\n",
       "    .dataframe tbody tr th:only-of-type {\n",
       "        vertical-align: middle;\n",
       "    }\n",
       "\n",
       "    .dataframe tbody tr th {\n",
       "        vertical-align: top;\n",
       "    }\n",
       "\n",
       "    .dataframe thead th {\n",
       "        text-align: right;\n",
       "    }\n",
       "</style>\n",
       "<table border=\"1\" class=\"dataframe\">\n",
       "  <thead>\n",
       "    <tr style=\"text-align: right;\">\n",
       "      <th></th>\n",
       "      <th>region</th>\n",
       "      <th>RMSE</th>\n",
       "      <th>mean</th>\n",
       "      <th>r2</th>\n",
       "    </tr>\n",
       "  </thead>\n",
       "  <tbody>\n",
       "    <tr>\n",
       "      <td>0</td>\n",
       "      <td>1-ый регион</td>\n",
       "      <td>37.579422</td>\n",
       "      <td>92.592568</td>\n",
       "      <td>0.279943</td>\n",
       "    </tr>\n",
       "    <tr>\n",
       "      <td>1</td>\n",
       "      <td>2-ой регион</td>\n",
       "      <td>0.889737</td>\n",
       "      <td>68.769951</td>\n",
       "      <td>0.999626</td>\n",
       "    </tr>\n",
       "    <tr>\n",
       "      <td>2</td>\n",
       "      <td>3-ий регион</td>\n",
       "      <td>39.958042</td>\n",
       "      <td>95.087528</td>\n",
       "      <td>0.202615</td>\n",
       "    </tr>\n",
       "  </tbody>\n",
       "</table>\n",
       "</div>"
      ],
      "text/plain": [
       "        region       RMSE       mean        r2\n",
       "0  1-ый регион  37.579422  92.592568  0.279943\n",
       "1  2-ой регион   0.889737  68.769951  0.999626\n",
       "2  3-ий регион  39.958042  95.087528  0.202615"
      ]
     },
     "execution_count": 11,
     "metadata": {},
     "output_type": "execute_result"
    }
   ],
   "source": [
    "result = pd.DataFrame(\n",
    "    {'region': ['1-ый регион', '2-ой регион', '3-ий регион'],\n",
    "     'RMSE': [RMSE_1, RMSE_2, RMSE_3],\n",
    "    'mean': [mean_1, mean_2, mean_3],\n",
    "    'r2': [r2_1, r2_2, r2_3]})\n",
    "result"
   ]
  },
  {
   "cell_type": "markdown",
   "metadata": {},
   "source": [
    "*Можно заметить, что модель предсказала средний запас нефти на валидационной выборке почти не отличающийся от фактических запасов нефти в каждом из регионов.\n",
    "Чем меньше метрика RSME, тем лучше. Видим, что наименьший показатель RSME во 2-ом регионе.\n",
    "Также, наблюдаем, что показатель метрики R2 во 2-ом регионе очень высокий, что нельзя сказать о 1-ом и 3-ем регионе, где модель отработала недостаточно точно.*"
   ]
  },
  {
   "cell_type": "markdown",
   "metadata": {},
   "source": [
    "## ВЫВОД \n",
    "На данном этапе проекта, мы разделили исходные данные на 2 выборки: обучающую и валидационную.\n",
    "Обучили модель линейной регрессии (LinearRegression) и получили предсказания. Также, проанализировали метрики RMSE, r2 и mean. И сделали вывод, что модель достаточно хорошо предсказывает объем нефти во 2-ом регионе, а на 1-ом и 3-ем регионе модель работает недостаточно хорошо."
   ]
  },
  {
   "cell_type": "markdown",
   "metadata": {},
   "source": [
    "<a id='section6'></a>"
   ]
  },
  {
   "cell_type": "markdown",
   "metadata": {},
   "source": [
    "# 3. Подготовка к расчёту прибыли."
   ]
  },
  {
   "cell_type": "markdown",
   "metadata": {},
   "source": [
    "## 3.1. Сохранение значений для расчётов в отдельные переменные."
   ]
  },
  {
   "cell_type": "code",
   "execution_count": 12,
   "metadata": {},
   "outputs": [],
   "source": [
    "N_POINT = 500 #Кол-во точек исследуемых при разведке региона\n",
    "N_BEST_POINT = 200 #Кол-во лучших точек для разработки\n",
    "BUDGET = 10e9 #Бюджет на разработку скважин в регионе\n",
    "UNIT_INCOME = 450000 #Доход с каждой единицы продукта\n",
    "MAX_PROB_LOSS = 0.025 #максимальная вероятность убытков "
   ]
  },
  {
   "cell_type": "markdown",
   "metadata": {},
   "source": [
    "<a id='section7'></a>"
   ]
  },
  {
   "cell_type": "markdown",
   "metadata": {},
   "source": [
    "## 3.2. Рассчет достаточного объема сырья для безубыточной разработки новой скважины."
   ]
  },
  {
   "cell_type": "markdown",
   "metadata": {},
   "source": [
    "### Бюджет на 1 скважину:"
   ]
  },
  {
   "cell_type": "code",
   "execution_count": 13,
   "metadata": {},
   "outputs": [
    {
     "data": {
      "text/plain": [
       "50000000.0"
      ]
     },
     "execution_count": 13,
     "metadata": {},
     "output_type": "execute_result"
    }
   ],
   "source": [
    "BUDGET_1_POINT = BUDGET / N_BEST_POINT\n",
    "BUDGET_1_POINT"
   ]
  },
  {
   "cell_type": "markdown",
   "metadata": {},
   "source": [
    "### Достаточный объем сырья для безубыточной разработки новой скважины:"
   ]
  },
  {
   "cell_type": "code",
   "execution_count": 14,
   "metadata": {},
   "outputs": [
    {
     "data": {
      "text/plain": [
       "111.11111111111111"
      ]
     },
     "execution_count": 14,
     "metadata": {},
     "output_type": "execute_result"
    }
   ],
   "source": [
    "BUDGET_1_POINT / UNIT_INCOME"
   ]
  },
  {
   "cell_type": "markdown",
   "metadata": {},
   "source": [
    "*Объём сырья для безубыточной разработки новой скважины состовляет 111.11 единиц продукта. Этот объем гораздо больше, чем среднее предсказание объема нефти во всех регионах.*\n",
    "\n"
   ]
  },
  {
   "cell_type": "markdown",
   "metadata": {},
   "source": [
    "## ВЫВОД \n",
    "На данном этапе проекта можно отметить, что для безубыточной разработки новой скважины необходимо переработать минимум 112 единиц продукта. Также выяснили, что предсказания среднего объема нефти во всех регионах гораздо меньше этого объема."
   ]
  },
  {
   "cell_type": "markdown",
   "metadata": {},
   "source": [
    "<a id='section8'></a>"
   ]
  },
  {
   "cell_type": "markdown",
   "metadata": {},
   "source": [
    "# 4. Расчёт прибыли и рисков."
   ]
  },
  {
   "cell_type": "markdown",
   "metadata": {},
   "source": [
    "## 4.1. Написание функции для расчёта прибыли по выбранным скважинам и предсказаниям модели."
   ]
  },
  {
   "cell_type": "code",
   "execution_count": 15,
   "metadata": {},
   "outputs": [],
   "source": [
    "def revenue(target, probabilities, count):\n",
    "    probs_best = probabilities.sort_values(ascending = False)\n",
    "    income = target[probs_best.index][:count].sum() * UNIT_INCOME\n",
    "    revenue_final = income - BUDGET\n",
    "    return revenue_final"
   ]
  },
  {
   "cell_type": "code",
   "execution_count": 16,
   "metadata": {},
   "outputs": [],
   "source": [
    "predictions_1 = pd.Series(predictions_1, index=target_valid_1.index)\n",
    "predictions_2 = pd.Series(predictions_2, index=target_valid_2.index)\n",
    "predictions_3 = pd.Series(predictions_3, index=target_valid_3.index)"
   ]
  },
  {
   "cell_type": "markdown",
   "metadata": {},
   "source": [
    "<a id='section9'></a>"
   ]
  },
  {
   "cell_type": "markdown",
   "metadata": {},
   "source": [
    "## 4.2. Нахождение средней прибыли, 95%-ого доверительного интервала и риска убытков."
   ]
  },
  {
   "cell_type": "markdown",
   "metadata": {},
   "source": [
    "### Применим технику Bootstrap с 1000 выборок, чтобы найти распределение прибыли."
   ]
  },
  {
   "cell_type": "code",
   "execution_count": 17,
   "metadata": {},
   "outputs": [],
   "source": [
    "def average_profit(target_valid, predictions, region):\n",
    "    bootstrap = []\n",
    "    values = []\n",
    "    \n",
    "    for i in range(1000):\n",
    "        target_subsample = target_valid.sample(n = N_POINT, replace=True, random_state = state)\n",
    "        probs_subsample = predictions[target_subsample.index]\n",
    "        values.append(revenue(target_subsample, probs_subsample, N_BEST_POINT))\n",
    "\n",
    "    values = pd.Series(values)\n",
    "    lower = values.quantile(0.025)/ 10e6\n",
    "    upper = values.quantile(0.975)/ 10e6\n",
    "\n",
    "    mean = values.mean()/ 10e6\n",
    "    confidence_interval = (lower, upper)\n",
    "    risk_of_loss = (values < 0).mean()* 100\n",
    "    bootstrap.append({'region': region,\n",
    "                            'lower': lower, \n",
    "                            'upper': upper,\n",
    "                            'risk_of_loss': risk_of_loss,\n",
    "                            'mean': mean, \n",
    "                            'confidence_interval': confidence_interval})\n",
    "    return pd.DataFrame(bootstrap)"
   ]
  },
  {
   "cell_type": "code",
   "execution_count": 18,
   "metadata": {},
   "outputs": [],
   "source": [
    "region_1 = '1-ый регион'\n",
    "bootstrap_1 = average_profit(target_valid_1, predictions_1, region_1)"
   ]
  },
  {
   "cell_type": "code",
   "execution_count": 19,
   "metadata": {},
   "outputs": [],
   "source": [
    "region_2 = '2-ой регион'\n",
    "bootstrap_2 = average_profit(target_valid_2, predictions_2, region_2)"
   ]
  },
  {
   "cell_type": "code",
   "execution_count": 20,
   "metadata": {},
   "outputs": [],
   "source": [
    "region_3 = '3-ий регион'\n",
    "bootstrap_3 = average_profit(target_valid_3, predictions_3, region_3)"
   ]
  },
  {
   "cell_type": "markdown",
   "metadata": {},
   "source": [
    "### Объединим в единую таблицу полученные результаты."
   ]
  },
  {
   "cell_type": "code",
   "execution_count": 21,
   "metadata": {},
   "outputs": [
    {
     "data": {
      "text/html": [
       "<div>\n",
       "<style scoped>\n",
       "    .dataframe tbody tr th:only-of-type {\n",
       "        vertical-align: middle;\n",
       "    }\n",
       "\n",
       "    .dataframe tbody tr th {\n",
       "        vertical-align: top;\n",
       "    }\n",
       "\n",
       "    .dataframe thead th {\n",
       "        text-align: right;\n",
       "    }\n",
       "</style>\n",
       "<table border=\"1\" class=\"dataframe\">\n",
       "  <thead>\n",
       "    <tr style=\"text-align: right;\">\n",
       "      <th></th>\n",
       "      <th>region</th>\n",
       "      <th>lower</th>\n",
       "      <th>upper</th>\n",
       "      <th>risk_of_loss</th>\n",
       "      <th>mean</th>\n",
       "      <th>confidence_interval</th>\n",
       "    </tr>\n",
       "  </thead>\n",
       "  <tbody>\n",
       "    <tr>\n",
       "      <td>0</td>\n",
       "      <td>1-ый регион</td>\n",
       "      <td>-7.618781</td>\n",
       "      <td>95.784653</td>\n",
       "      <td>4.8</td>\n",
       "      <td>42.389724</td>\n",
       "      <td>(-7.618781389036274, 95.78465319517828)</td>\n",
       "    </tr>\n",
       "    <tr>\n",
       "      <td>0</td>\n",
       "      <td>2-ой регион</td>\n",
       "      <td>10.806690</td>\n",
       "      <td>92.857444</td>\n",
       "      <td>0.6</td>\n",
       "      <td>51.325670</td>\n",
       "      <td>(10.80668952339621, 92.85744392324963)</td>\n",
       "    </tr>\n",
       "    <tr>\n",
       "      <td>0</td>\n",
       "      <td>3-ий регион</td>\n",
       "      <td>-14.280063</td>\n",
       "      <td>89.338057</td>\n",
       "      <td>7.4</td>\n",
       "      <td>38.112036</td>\n",
       "      <td>(-14.280063008786875, 89.33805657504003)</td>\n",
       "    </tr>\n",
       "  </tbody>\n",
       "</table>\n",
       "</div>"
      ],
      "text/plain": [
       "        region      lower      upper  risk_of_loss       mean  \\\n",
       "0  1-ый регион  -7.618781  95.784653           4.8  42.389724   \n",
       "0  2-ой регион  10.806690  92.857444           0.6  51.325670   \n",
       "0  3-ий регион -14.280063  89.338057           7.4  38.112036   \n",
       "\n",
       "                        confidence_interval  \n",
       "0   (-7.618781389036274, 95.78465319517828)  \n",
       "0    (10.80668952339621, 92.85744392324963)  \n",
       "0  (-14.280063008786875, 89.33805657504003)  "
      ]
     },
     "execution_count": 21,
     "metadata": {},
     "output_type": "execute_result"
    }
   ],
   "source": [
    "result = pd.concat([bootstrap_1, bootstrap_2, bootstrap_3])\n",
    "result"
   ]
  },
  {
   "cell_type": "markdown",
   "metadata": {},
   "source": [
    "*Самый высокий показатель средней прибыли во 2-ом регионе, самый низкий в 1-ом. Также, во 2-ом регионе риск убытков составляет 0.6%, что в 8 раз меньше чем в 1-ом. В 1-ом и в 3-ем регионе уровень риска превышает допустимый уровень в 2.5%.*\n"
   ]
  },
  {
   "cell_type": "markdown",
   "metadata": {},
   "source": [
    "<a id='section10'></a>"
   ]
  },
  {
   "cell_type": "markdown",
   "metadata": {},
   "source": [
    "# 5. Общий вывод.\n",
    "\n",
    "Добывающей компании «ГлавРосГосНефть» необходимо было решить, где бурить новую скважину.\n",
    "Нам были предоставлены пробы нефти в трёх регионах: в каждом 10 000 месторождений, где измерили качество нефти и объём её запасов. Нам необходимо было построить модель машинного обучения, которая поможет определить регион, где добыча принесёт наибольшую прибыль. Также, необходимо было проанализировать возможную прибыль и риски.\n",
    "    \n",
    "На первом этапе проекта мы изучили данные о каждом из регионов. Проверили данные на наличие пропусков. Обнаружили, что в каждом регионе есть пустые скважины. Наибольший средний объем запасов нефти в скважине зафиксирован в 3-ем регионе, а наименьший — во втором. Так же обнаружили корреляцию между признаками `f2` и `product` во 2-ом регионе, в других регионах эти признаки не коррелируют.\n",
    "    \n",
    "Следующим этапом нашего проекта стало - обучение и проверка модели. Мы разделили исходные данные на 2 выборки: обучающую и валидационную. Обучили модель линейной регрессии (LinearRegression) и получили предсказания. Также, проанализировали метрики RMSE, r2 и mean. И сделали вывод, что модель достаточно хорошо предсказывает объем нефти во 2-ом регионе, а на 1-ом и 3-ем регионе модель работает недостаточно хорошо.\n",
    "\n",
    "Далее мы начали подготовку к расчету прибыли. Для этого мы сохранили значения для расчётов в отдельных переменных.  Посчитали  достаточный объем сырья для безубыточной разработки новой скважины и определили, что для безубыточной разработки новой скважины необходимо переработать минимум 112 единиц продукта. Также оказалось, что предсказания среднего объема нефти во всех регионах гораздо меньше этого объема.\n",
    "    \n",
    "Затем мы приступили непосредственно к  расчету прибыли и рисков. Мы написали функцию для расчёта прибыли по выбранным скважинам и предсказаниям модели. Затем применили технику `Bootstrap` с 1000 выборок, чтобы найти распределение прибыли. И нашли среднюю прибыль, 95%-й доверительный интервал и риск убытков. Оказалось, что  самый высокий показатель средней прибыли во 2-ом регионе, самый низкий в 1-ом. Также выяснили,  что во 2-ом регионе риск убытков составляет 0.3%, что почти в 8 раз меньше чем в 1-ом. В 1-ом и в 3-ем регионе уровень риска превышает допустимый уровень в 2.5%.\n",
    "    \n",
    "Таким образом, полученные результаты позволяют отметить, что 2-ой регион наиболее перспективный. Добыча нефти в этом регионе приносит наименьший риск, и при этом, может принести наибольшую прибыль. \n",
    "Менее перспективным оказался 3-ий регион, т.к. добыча нефти в этом регионе связана с большим риском и наименьшей прибылью."
   ]
  }
 ],
 "metadata": {
  "kernelspec": {
   "display_name": "Python 3",
   "language": "python",
   "name": "python3"
  },
  "language_info": {
   "codemirror_mode": {
    "name": "ipython",
    "version": 3
   },
   "file_extension": ".py",
   "mimetype": "text/x-python",
   "name": "python",
   "nbconvert_exporter": "python",
   "pygments_lexer": "ipython3",
   "version": "3.7.8"
  },
  "toc": {
   "base_numbering": 1,
   "nav_menu": {},
   "number_sections": true,
   "sideBar": true,
   "skip_h1_title": false,
   "title_cell": "Table of Contents",
   "title_sidebar": "Contents",
   "toc_cell": false,
   "toc_position": {},
   "toc_section_display": true,
   "toc_window_display": false
  }
 },
 "nbformat": 4,
 "nbformat_minor": 2
}
